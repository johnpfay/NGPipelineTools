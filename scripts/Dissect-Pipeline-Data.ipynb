{
 "cells": [
  {
   "cell_type": "markdown",
   "metadata": {},
   "source": [
    "## Dissect Pipeline Data\n",
    "\n",
    "Process to dissect the NG pipeline data into its elemental components for further analyses. This include breaking the dataset down into vertices tagged by the original OID which can be x-referenced with its attributes. "
   ]
  },
  {
   "cell_type": "code",
   "execution_count": 47,
   "metadata": {},
   "outputs": [],
   "source": [
    "#Imports\n",
    "import arcpy, os, zipfile, zlib\n",
    "\n",
    "#Set environments\n",
    "arcpy.env.workspace = '..\\\\scratch'\n",
    "arcpy.env.scratchWorkspace = '..\\\\scratch'\n",
    "arcpy.env.overwriteOutput = True"
   ]
  },
  {
   "cell_type": "code",
   "execution_count": 3,
   "metadata": {},
   "outputs": [
    {
     "name": "stdout",
     "output_type": "stream",
     "text": [
      "Natural gas pipeline feature class found.\n",
      "Spatial reference set to GCS_North_American_1983 (code:4269)\n"
     ]
    }
   ],
   "source": [
    "#Read in the pipeline data\n",
    "gdb_NG = '\\\\\\\\ns-leviathan.win.duke.edu\\\\biogas_GIS\\\\Rextag_Zone2\\\\Rextag_Zone2_Natural_Gas.gdb\\\\Natural_Gas'\n",
    "fc_NaturalGasPipelines =  os.path.join(gdb_NG,'NaturalGasPipelines')\n",
    "if not arcpy.Exists(fc_NaturalGasPipelines):\n",
    "    print(\"Error finding pipeline dataset!\")\n",
    "else:\n",
    "    sr = arcpy.Describe(fc_NaturalGasPipelines).spatialReference\n",
    "    srName = sr.name\n",
    "    srCode = sr.GCSCode\n",
    "    arcpy.env.outputCoordinateSystem=sr\n",
    "    print(\"Natural gas pipeline feature class found.\")\n",
    "    print(\"Spatial reference set to {} (code:{})\".format(srName,srCode))"
   ]
  },
  {
   "cell_type": "code",
   "execution_count": 22,
   "metadata": {},
   "outputs": [],
   "source": [
    "#Isolate NC Pipelines\n",
    "theState = \"North Carolina\"\n",
    "fc_StatePipelines = arcpy.Select_analysis(in_features=fc_NaturalGasPipelines,\n",
    "                                          out_feature_class='statePipes.shp',\n",
    "                                          where_clause=\"STATE_NAME = '{}'\".format(theState)).getOutput(0)"
   ]
  },
  {
   "cell_type": "code",
   "execution_count": 24,
   "metadata": {},
   "outputs": [],
   "source": [
    "#Convert to feature class of verticies\n",
    "fc_StatePoints = arcpy.FeatureVerticesToPoints_management(in_features=fc_StatePipelines,\n",
    "                                                          out_feature_class='statePoints',\n",
    "                                                          point_location='ALL').getOutput(0)"
   ]
  },
  {
   "cell_type": "code",
   "execution_count": 27,
   "metadata": {},
   "outputs": [],
   "source": [
    "#Convert features to JSON\n",
    "json_Vertices = arcpy.FeaturesToJSON_conversion(in_features=fc_StatePoints,\n",
    "                                                out_json_file='../scratch/NC_Vertices.geosjon',\n",
    "                                                format_json='FORMATTED',\n",
    "                                                geoJSON='GEOJSON').getOutput(0)"
   ]
  },
  {
   "cell_type": "code",
   "execution_count": 50,
   "metadata": {},
   "outputs": [
    {
     "data": {
      "text/plain": [
       "'..\\\\scratch\\\\NC_Vertices.geojson'"
      ]
     },
     "execution_count": 50,
     "metadata": {},
     "output_type": "execute_result"
    }
   ],
   "source": [
    "json_Vertices"
   ]
  },
  {
   "cell_type": "code",
   "execution_count": 52,
   "metadata": {},
   "outputs": [],
   "source": [
    "#Zip the file geojson file\n",
    "zf = zipfile.ZipFile('../scratch/NC_Verticies.zip', mode='w')\n",
    "zf.write(json_Vertices,compress_type=zipfile.ZIP_DEFLATED)\n",
    "zf.close()\n"
   ]
  }
 ],
 "metadata": {
  "kernelspec": {
   "display_name": "Python 3",
   "language": "python",
   "name": "python3"
  },
  "language_info": {
   "codemirror_mode": {
    "name": "ipython",
    "version": 3
   },
   "file_extension": ".py",
   "mimetype": "text/x-python",
   "name": "python",
   "nbconvert_exporter": "python",
   "pygments_lexer": "ipython3",
   "version": "3.6.6"
  }
 },
 "nbformat": 4,
 "nbformat_minor": 2
}
