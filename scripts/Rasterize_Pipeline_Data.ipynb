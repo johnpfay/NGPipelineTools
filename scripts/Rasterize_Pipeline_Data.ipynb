{
 "cells": [
  {
   "cell_type": "markdown",
   "metadata": {},
   "source": [
    "### Rasterize Pipeline Data\n",
    "Extracts a subset of pipeline data and converts to raster format.  "
   ]
  },
  {
   "cell_type": "code",
   "execution_count": 2,
   "metadata": {},
   "outputs": [],
   "source": [
    "#Imports\n",
    "import arcpy, os\n",
    "\n",
    "#Set environments\n",
    "arcpy.env.workspace = '..\\\\scratch'\n",
    "arcpy.env.scratchWorkspace = '..\\\\scratch'\n",
    "arcpy.env.overwriteOutput = True"
   ]
  },
  {
   "cell_type": "code",
   "execution_count": 3,
   "metadata": {},
   "outputs": [
    {
     "name": "stdout",
     "output_type": "stream",
     "text": [
      "Natural gas pipeline feature class found.\n",
      "Spatial reference set to GCS_North_American_1983 (code:4269)\n"
     ]
    }
   ],
   "source": [
    "#Read in the pipeline data\n",
    "gdb_NG = '\\\\\\\\ns-leviathan.win.duke.edu\\\\biogas_GIS\\\\Rextag_Zone2\\\\Rextag_Zone2_Natural_Gas.gdb\\\\Natural_Gas'\n",
    "fc_NaturalGasPipelines =  os.path.join(gdb_NG,'NaturalGasPipelines')\n",
    "if not arcpy.Exists(fc_NaturalGasPipelines):\n",
    "    print(\"Error finding pipeline dataset!\")\n",
    "else:\n",
    "    sr = arcpy.Describe(fc_NaturalGasPipelines).spatialReference\n",
    "    srName = sr.name\n",
    "    srCode = sr.GCSCode\n",
    "    arcpy.env.outputCoordinateSystem=sr\n",
    "    print(\"Natural gas pipeline feature class found.\")\n",
    "    print(\"Spatial reference set to {} (code:{})\".format(srName,srCode))"
   ]
  },
  {
   "cell_type": "code",
   "execution_count": 20,
   "metadata": {},
   "outputs": [],
   "source": [
    "#Isolate NC Pipelines\n",
    "theState = \"North Carolina\"\n",
    "fc_StatePipelines = arcpy.Select_analysis(in_features=fc_NaturalGasPipelines,\n",
    "                                          out_feature_class='statePipes.shp',\n",
    "                                          where_clause=\"STATE_NAME = '{}'\".format(theState)).getOutput(0)"
   ]
  },
  {
   "cell_type": "code",
   "execution_count": 18,
   "metadata": {},
   "outputs": [],
   "source": [
    "outSR = arcpy.SpatialReference(26917)"
   ]
  },
  {
   "cell_type": "code",
   "execution_count": null,
   "metadata": {},
   "outputs": [],
   "source": [
    "#Project to UTM Zone 17\n",
    "fc_StatePipelines_prj = arcpy.management.Project(in_dataset=fc_StatePipelines,\n",
    "                                                 out_dataset='../scratch/statePipes_prj.shp',\n",
    "                                                 out_coor_system = outSR\n",
    "                                                ).getOutput(0)"
   ]
  },
  {
   "cell_type": "code",
   "execution_count": 28,
   "metadata": {},
   "outputs": [
    {
     "data": {
      "text/plain": [
       "'..\\\\scratch\\\\statePipes_prj.shp'"
      ]
     },
     "execution_count": 28,
     "metadata": {},
     "output_type": "execute_result"
    }
   ],
   "source": [
    "fc_StatePipelines_prj"
   ]
  },
  {
   "cell_type": "code",
   "execution_count": 31,
   "metadata": {},
   "outputs": [],
   "source": [
    "#Convert to 10 m raster\n",
    "arcpy.env.extent = fc_StatePipelines_prj\n",
    "arcpy.env.outputCoordinateSystem=fc_StatePipelines_prj\n",
    "raster_StatePipelines = arcpy.conversion.PolylineToRaster(in_features=fc_StatePipelines_prj,\n",
    "                                                          value_field='FID',\n",
    "                                                          out_rasterdataset='../scratch/StatePipes2.img',\n",
    "                                                          cell_assignment='MAXIMUM_LENGTH',\n",
    "                                                          priority_field='NONE',\n",
    "                                                          cellsize=10).getOutput(0)"
   ]
  }
 ],
 "metadata": {
  "kernelspec": {
   "display_name": "Python 3",
   "language": "python",
   "name": "python3"
  },
  "language_info": {
   "codemirror_mode": {
    "name": "ipython",
    "version": 3
   },
   "file_extension": ".py",
   "mimetype": "text/x-python",
   "name": "python",
   "nbconvert_exporter": "python",
   "pygments_lexer": "ipython3",
   "version": "3.6.6"
  }
 },
 "nbformat": 4,
 "nbformat_minor": 2
}
