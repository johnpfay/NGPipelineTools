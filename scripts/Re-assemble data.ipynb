{
 "cells": [
  {
   "cell_type": "code",
   "execution_count": 1,
   "metadata": {},
   "outputs": [],
   "source": [
    "#Imports\n",
    "import arcpy, os\n",
    "\n",
    "#Set environments\n",
    "arcpy.env.workspace = '..\\\\scratch'\n",
    "arcpy.env.scratchWorkspace = '..\\\\scratch'\n",
    "arcpy.env.overwriteOutput = True"
   ]
  },
  {
   "cell_type": "code",
   "execution_count": 3,
   "metadata": {},
   "outputs": [
    {
     "data": {
      "text/plain": [
       "<Result '..\\\\scratch\\\\NC_pts.shp'>"
      ]
     },
     "execution_count": 3,
     "metadata": {},
     "output_type": "execute_result"
    }
   ],
   "source": [
    "#Read the GeoJSON data into a feature class\n",
    "file_GeoJSON = '../scratch/NC_Vertices.geojson'\n",
    "fc_Points = '../scratch/NC_pts.shp'\n",
    "arcpy.JSONToFeatures_conversion(in_json_file=file_GeoJSON,out_features=fc_Points,geometry_type='POINT')"
   ]
  },
  {
   "cell_type": "code",
   "execution_count": 14,
   "metadata": {},
   "outputs": [
    {
     "ename": "AttributeError",
     "evalue": "'ToolValidator' object has no attribute 'isLicensed'",
     "output_type": "error",
     "traceback": [
      "\u001b[1;31m---------------------------------------------------------------------------\u001b[0m",
      "\u001b[1;31mAttributeError\u001b[0m                            Traceback (most recent call last)",
      "\u001b[1;32mc:\\program files\\arcgis\\pro\\Resources\\ArcToolbox\\toolboxes\\Data Management Tools.tbx#PointsToLine_management.InitializeParameters.py\u001b[0m in \u001b[0;36m<module>\u001b[1;34m()\u001b[0m\n",
      "\u001b[1;31mAttributeError\u001b[0m: 'ToolValidator' object has no attribute 'isLicensed'"
     ]
    },
    {
     "ename": "AttributeError",
     "evalue": "'ToolValidator' object has no attribute 'isLicensed'",
     "output_type": "error",
     "traceback": [
      "\u001b[1;31m---------------------------------------------------------------------------\u001b[0m",
      "\u001b[1;31mAttributeError\u001b[0m                            Traceback (most recent call last)",
      "\u001b[1;32mc:\\program files\\arcgis\\pro\\Resources\\ArcToolbox\\toolboxes\\Data Management Tools.tbx#PointsToLine_management.InitializeParameters.py\u001b[0m in \u001b[0;36m<module>\u001b[1;34m()\u001b[0m\n",
      "\u001b[1;31mAttributeError\u001b[0m: 'ToolValidator' object has no attribute 'isLicensed'"
     ]
    }
   ],
   "source": [
    "#Connect the lines (Raises error, but still works)\n",
    "fc_Lines = '../scratch/NC_lines'\n",
    "fc_Lines = arcpy.management.PointsToLine(Input_Features=fc_Points,\n",
    "                                         Output_Feature_Class=fc_Lines,\n",
    "                                         Line_Field='ORIG_FID',\n",
    "                                         Sort_Field='FID',\n",
    "                                         Close_Line='NO_CLOSE').getOutput(0)"
   ]
  },
  {
   "cell_type": "code",
   "execution_count": 20,
   "metadata": {},
   "outputs": [],
   "source": [
    "#Reattach attributes\n",
    "#Get a list of fields in the fc_Points\n",
    "join_fields = [field.name for field in arcpy.ListFields(fc_Points)][3:]\n",
    "fc_Lines = arcpy.management.JoinField(in_data=fc_Lines,\n",
    "                                      in_field='ORIG_FID',\n",
    "                                      join_table=fc_Points,\n",
    "                                      join_field='ORIG_FID',\n",
    "                                      fields=join_fields)"
   ]
  }
 ],
 "metadata": {
  "kernelspec": {
   "display_name": "Python 3",
   "language": "python",
   "name": "python3"
  },
  "language_info": {
   "codemirror_mode": {
    "name": "ipython",
    "version": 3
   },
   "file_extension": ".py",
   "mimetype": "text/x-python",
   "name": "python",
   "nbconvert_exporter": "python",
   "pygments_lexer": "ipython3",
   "version": "3.6.6"
  }
 },
 "nbformat": 4,
 "nbformat_minor": 2
}
